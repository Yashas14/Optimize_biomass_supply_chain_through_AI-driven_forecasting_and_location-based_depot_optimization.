{
 "cells": [
  {
   "cell_type": "code",
   "execution_count": 1,
   "metadata": {},
   "outputs": [],
   "source": [
    "import sys\n",
    "sys.path.insert(0,'../src')\n",
    "\n",
    "import cost_functions as cf\n",
    "import opt_functions as of\n",
    "import pandas as pd\n",
    "import numpy as np\n",
    "import warnings\n",
    "\n",
    "warnings.simplefilter(action='ignore', category=FutureWarning)"
   ]
  },
  {
   "cell_type": "code",
   "execution_count": 2,
   "metadata": {},
   "outputs": [],
   "source": [
    "dist_mat=pd.read_csv(\"../dataset/Distance_Matrix.csv\").drop(['Unnamed: 0'],axis=1).to_numpy()\n",
    "df_biomass=pd.read_csv(\"../dataset//Biomass_History.csv\")\n",
    "forecast_df=pd.read_csv(\"../forecast/forecast_extratrees.csv\")[[\"2019\"]].rename({\"2018\":\"biomass\",\"2019\":\"biomass\"},axis=1)\n",
    "forecast=forecast_df.to_numpy()\n",
    "forecast_df_2018=pd.read_csv(\"../forecast/forecast_extratrees.csv\")[[\"2018\"]].rename({\"2018\":\"biomass\",\"2019\":\"biomass\"},axis=1)\n",
    "forecast_2018=forecast_df.to_numpy()"
   ]
  },
  {
   "cell_type": "code",
   "execution_count": 3,
   "metadata": {},
   "outputs": [
    {
     "data": {
      "text/plain": [
       "(biomass    356121.491506\n",
       " dtype: float64,\n",
       " biomass    284897.193205\n",
       " dtype: float64)"
      ]
     },
     "execution_count": 3,
     "metadata": {},
     "output_type": "execute_result"
    }
   ],
   "source": [
    "forecast_df.sum(),forecast_df.sum()*0.8"
   ]
  },
  {
   "cell_type": "code",
   "execution_count": 4,
   "metadata": {},
   "outputs": [
    {
     "data": {
      "text/plain": [
       "<Axes: ylabel='Frequency'>"
      ]
     },
     "execution_count": 4,
     "metadata": {},
     "output_type": "execute_result"
    },
    {
     "data": {
      "image/png": "[encoded data removed]",
      "text/plain": [
       "<Figure size 640x480 with 1 Axes>"
      ]
     },
     "metadata": {},
     "output_type": "display_data"
    }
   ],
   "source": [
    "forecast_df.plot(kind=\"hist\",y=\"biomass\",bins=50)"
   ]
  },
  {
   "cell_type": "markdown",
   "metadata": {},
   "source": [
    "Run optimization"
   ]
  },
  {
   "cell_type": "code",
   "execution_count": 10,
   "metadata": {},
   "outputs": [
    {
     "name": "stdout",
     "output_type": "stream",
     "text": [
      "status: 1, Optimal\n",
      "objective: 71115.24128515327\n",
      "status: 1, Optimal\n",
      "objective: 51254.137666296025\n",
      "best run has cost of  51254.1376662955\n"
     ]
    }
   ],
   "source": [
    "final_raf_index,final_depot_index=of.run_optimization(dist_mat,forecast_df,index_thresh=200,raf_thresh=500,min_depot=15,max_depot=16,N_raf=3,max_iter=1,dlong=0.05,dlat=0.05,n=1,ignore=32000)"
   ]
  },
  {
   "cell_type": "markdown",
   "metadata": {},
   "source": [
    "File export based on the optimized depot / refineries indexes"
   ]
  },
  {
   "cell_type": "code",
   "execution_count": 9,
   "metadata": {},
   "outputs": [
    {
     "name": "stdout",
     "output_type": "stream",
     "text": [
      "status: 1, Optimal\n",
      "objective: 26786.485214107557\n"
     ]
    }
   ],
   "source": [
    "raf_index=[985, 1292, 1861]\n",
    "depot_index=  [989, 925, 985, 1038, 1039, 1176, 1177, 1292, 1359, 1424, 1809, 1751, 1860, 1861, 1862]\n",
    "\n",
    "\n",
    "model=of.create_biomass_mat_lp_with_adjust(depot_index,raf_index,forecast,dist_mat)\n",
    "biomass_mat,pellet_mat,adjust=of.get_matrices_from_lp(model,len(depot_index),len(raf_index))\n",
    "forecast_new=adjust.flatten()+forecast.copy().flatten()\n",
    "\n",
    "costs=cf.get_cost(depot_index,raf_index,biomass_mat,dist_mat,pellet_mat,forecast_new,adjust)\n",
    "\n",
    "df=cf.create_submission_file(forecast_new,forecast_new,depot_index,raf_index,biomass_mat,biomass_mat,pellet_mat,pellet_mat)\n",
    "df.to_csv(\"../submission/final_submission.csv\",index=False)"
   ]
  },
  {
   "cell_type": "code",
   "execution_count": null,
   "metadata": {},
   "outputs": [],
   "source": []
  }
 ],
 "metadata": {
  "kernelspec": {
   "display_name": "Python 3",
   "language": "python",
   "name": "python3"
  },
  "language_info": {
   "codemirror_mode": {
    "name": "ipython",
    "version": 3
   },
   "file_extension": ".py",
   "mimetype": "text/x-python",
   "name": "python",
   "nbconvert_exporter": "python",
   "pygments_lexer": "ipython3",
   "version": "3.10.0"
  },
  "orig_nbformat": 4
 },
 "nbformat": 4,
 "nbformat_minor": 2
}
